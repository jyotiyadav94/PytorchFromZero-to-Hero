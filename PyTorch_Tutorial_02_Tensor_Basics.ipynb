{
  "nbformat": 4,
  "nbformat_minor": 0,
  "metadata": {
    "colab": {
      "provenance": [],
      "gpuType": "T4"
    },
    "kernelspec": {
      "name": "python3",
      "display_name": "Python 3"
    },
    "language_info": {
      "name": "python"
    },
    "accelerator": "GPU"
  },
  "cells": [
    {
      "cell_type": "code",
      "source": [
        "import torch\n",
        "# it is like scaler value\n",
        "x=torch.empty(1)\n",
        "print(x)\n",
        "\n",
        "# we see three items in our vector\n",
        "x=torch.empty(3)\n",
        "print(x)\n",
        "\n",
        "\n",
        "# let's make it 2d\n",
        "x=torch.empty(2,3)\n",
        "print(x)\n",
        "\n",
        "# let's make it 3d\n",
        "x=torch.empty(2,2,3)\n",
        "print(x)\n",
        "\n",
        "#create tensors with ones value\n",
        "x=torch.ones(2,2)\n",
        "print(x)\n",
        "\n",
        "\n",
        "#create tensors with zeros value\n",
        "x=torch.zeros(2,2,dtype=torch.int)\n",
        "print(x.dtype)\n",
        "\n",
        "#create tensors with zeros value\n",
        "x=torch.zeros(2,2,dtype=torch.float16)\n",
        "print(x.size())"
      ],
      "metadata": {
        "colab": {
          "base_uri": "https://localhost:8080/"
        },
        "id": "kgxD_TNg7MxM",
        "outputId": "e4f809b0-b0b9-47e3-c5ad-850d32528ab2"
      },
      "execution_count": 116,
      "outputs": [
        {
          "output_type": "stream",
          "name": "stdout",
          "text": [
            "tensor([7.8223e-18])\n",
            "tensor([1.4424e-17, 3.1644e-41, 0.0000e+00])\n",
            "tensor([[-2.0982e-19,  3.1640e-41, -3.3125e-21],\n",
            "        [ 3.1640e-41,  0.0000e+00,  0.0000e+00]])\n",
            "tensor([[[ 9.2372e-22,  3.1644e-41,  0.0000e+00],\n",
            "         [ 1.4013e-45,  8.9683e-44,  0.0000e+00]],\n",
            "\n",
            "        [[ 1.1210e-43,  0.0000e+00,  1.5245e-17],\n",
            "         [ 3.1644e-41, -7.1912e-20,  3.1640e-41]]])\n",
            "tensor([[1., 1.],\n",
            "        [1., 1.]])\n",
            "torch.int32\n",
            "torch.Size([2, 2])\n"
          ]
        }
      ]
    },
    {
      "cell_type": "code",
      "source": [
        "import torch\n",
        "x=torch.tensor([2.5,0.1])\n",
        "print(x)"
      ],
      "metadata": {
        "colab": {
          "base_uri": "https://localhost:8080/"
        },
        "id": "jEFCGCZG7X_e",
        "outputId": "7d67ac36-b4fa-4226-b36f-d7710bf1cf75"
      },
      "execution_count": 117,
      "outputs": [
        {
          "output_type": "stream",
          "name": "stdout",
          "text": [
            "tensor([2.5000, 0.1000])\n"
          ]
        }
      ]
    },
    {
      "cell_type": "code",
      "source": [
        "x=torch.rand(2,2)\n",
        "y=torch.rand(2,2)\n",
        "print(x)\n",
        "print(y)\n",
        "z=torch.add(x,y)\n",
        "print(z)\n",
        "z=x+y\n",
        "print(z)"
      ],
      "metadata": {
        "colab": {
          "base_uri": "https://localhost:8080/"
        },
        "id": "IY8I0DeQ8w8_",
        "outputId": "60f52524-bb3a-424d-da54-670cdd60f0fb"
      },
      "execution_count": 120,
      "outputs": [
        {
          "output_type": "stream",
          "name": "stdout",
          "text": [
            "tensor([[0.0681, 0.4258],\n",
            "        [0.7363, 0.6862]])\n",
            "tensor([[0.3595, 0.8514],\n",
            "        [0.9995, 0.0371]])\n",
            "tensor([[0.4275, 1.2772],\n",
            "        [1.7358, 0.7234]])\n",
            "tensor([[0.4275, 1.2772],\n",
            "        [1.7358, 0.7234]])\n"
          ]
        }
      ]
    },
    {
      "cell_type": "code",
      "source": [
        "# in place operation\n",
        "y.add_(x)\n",
        "z=torch.sub(x,y)\n",
        "print(z)\n",
        "print(y)"
      ],
      "metadata": {
        "colab": {
          "base_uri": "https://localhost:8080/"
        },
        "id": "tUipXnk-9DLJ",
        "outputId": "bd4baaa3-5350-4b10-9ac0-cd3e3c70a30b"
      },
      "execution_count": 123,
      "outputs": [
        {
          "output_type": "stream",
          "name": "stdout",
          "text": [
            "tensor([[-0.4956, -1.7030],\n",
            "        [-2.4721, -1.4096]])\n",
            "tensor([[0.5637, 2.1288],\n",
            "        [3.2084, 2.0958]])\n"
          ]
        }
      ]
    },
    {
      "cell_type": "code",
      "source": [
        "# in place operation\n",
        "y.add_(x)\n",
        "z=torch.mul(x,y)\n",
        "print(z)\n",
        "print(y)"
      ],
      "metadata": {
        "colab": {
          "base_uri": "https://localhost:8080/"
        },
        "id": "0u4FxcqU9q7G",
        "outputId": "8b5ad7b9-5377-4703-c177-ef9be6b0f535"
      },
      "execution_count": 124,
      "outputs": [
        {
          "output_type": "stream",
          "name": "stdout",
          "text": [
            "tensor([[0.0430, 1.0877],\n",
            "        [2.9045, 1.9090]])\n",
            "tensor([[0.6318, 2.5545],\n",
            "        [3.9447, 2.7820]])\n"
          ]
        }
      ]
    },
    {
      "cell_type": "code",
      "source": [
        "# in place operation\n",
        "y.add_(x)\n",
        "z=x/y\n",
        "z=torch.div(x,y)\n",
        "print(z)\n",
        "print(y)"
      ],
      "metadata": {
        "colab": {
          "base_uri": "https://localhost:8080/"
        },
        "id": "DHzhWNqO96Pw",
        "outputId": "4ff4cf9a-a12f-4a62-cedd-78954baf0c99"
      },
      "execution_count": 126,
      "outputs": [
        {
          "output_type": "stream",
          "name": "stdout",
          "text": [
            "tensor([[0.0886, 0.1250],\n",
            "        [0.1359, 0.1652]])\n",
            "tensor([[0.7679, 3.4061],\n",
            "        [5.4174, 4.1544]])\n"
          ]
        }
      ]
    },
    {
      "cell_type": "code",
      "source": [
        "import torch\n",
        "x=torch.rand(5,3)\n",
        "print(x)\n",
        "print(x[:0])\n",
        "print(x[1,1].item())"
      ],
      "metadata": {
        "colab": {
          "base_uri": "https://localhost:8080/"
        },
        "id": "NvUx40pa9-c2",
        "outputId": "c49f9032-73c4-4658-c98f-139b32a5055b"
      },
      "execution_count": 135,
      "outputs": [
        {
          "output_type": "stream",
          "name": "stdout",
          "text": [
            "tensor([[0.7684, 0.6997, 0.5237],\n",
            "        [0.0581, 0.0017, 0.2142],\n",
            "        [0.7168, 0.6162, 0.7755],\n",
            "        [0.3724, 0.0246, 0.3900],\n",
            "        [0.4023, 0.1147, 0.0520]])\n",
            "tensor([], size=(0, 3))\n",
            "0.0016580820083618164\n"
          ]
        }
      ]
    },
    {
      "cell_type": "code",
      "source": [
        "import torch\n",
        "x=torch.rand(4,4)\n",
        "print(x)\n",
        "y=x.view(16)\n",
        "print(y)"
      ],
      "metadata": {
        "colab": {
          "base_uri": "https://localhost:8080/"
        },
        "id": "33lxFagN-PZ_",
        "outputId": "3c408ab0-466b-4763-83b8-8bd38681e0c0"
      },
      "execution_count": 140,
      "outputs": [
        {
          "output_type": "stream",
          "name": "stdout",
          "text": [
            "tensor([[0.7239, 0.5007, 0.0117, 0.5318],\n",
            "        [0.7377, 0.1085, 0.5643, 0.0905],\n",
            "        [0.4676, 0.1204, 0.7509, 0.2399],\n",
            "        [0.5718, 0.0033, 0.2118, 0.1296]])\n",
            "tensor([0.7239, 0.5007, 0.0117, 0.5318, 0.7377, 0.1085, 0.5643, 0.0905, 0.4676,\n",
            "        0.1204, 0.7509, 0.2399, 0.5718, 0.0033, 0.2118, 0.1296])\n"
          ]
        }
      ]
    },
    {
      "cell_type": "code",
      "source": [
        "import torch\n",
        "a=torch.ones(5)\n",
        "print(a)\n",
        "b=a.numpy()\n",
        "print(b)"
      ],
      "metadata": {
        "colab": {
          "base_uri": "https://localhost:8080/"
        },
        "id": "38C_onAM-s2J",
        "outputId": "b2774ec8-5130-46a8-bd9b-03f67d24a29e"
      },
      "execution_count": 143,
      "outputs": [
        {
          "output_type": "stream",
          "name": "stdout",
          "text": [
            "tensor([1., 1., 1., 1., 1.])\n",
            "[1. 1. 1. 1. 1.]\n"
          ]
        }
      ]
    },
    {
      "cell_type": "code",
      "source": [
        "a.add_(1)\n",
        "print(a)\n",
        "print(b)"
      ],
      "metadata": {
        "colab": {
          "base_uri": "https://localhost:8080/"
        },
        "id": "h634ysOtD-Ks",
        "outputId": "fb50b669-3801-4b81-907a-4d760a93a0de"
      },
      "execution_count": 145,
      "outputs": [
        {
          "output_type": "stream",
          "name": "stdout",
          "text": [
            "tensor([3., 3., 3., 3., 3.])\n",
            "[3. 3. 3. 3. 3.]\n"
          ]
        }
      ]
    },
    {
      "cell_type": "code",
      "source": [
        "a=np.ones(5)\n",
        "print(a)\n",
        "b=torch.from_numpy(a)\n",
        "print(b)"
      ],
      "metadata": {
        "colab": {
          "base_uri": "https://localhost:8080/"
        },
        "id": "VEwSpyBlEaVs",
        "outputId": "e05f3250-8922-4b9e-d34e-3682307bbcdc"
      },
      "execution_count": 150,
      "outputs": [
        {
          "output_type": "stream",
          "name": "stdout",
          "text": [
            "[1. 1. 1. 1. 1.]\n",
            "tensor([1., 1., 1., 1., 1.], dtype=torch.float64)\n"
          ]
        }
      ]
    },
    {
      "cell_type": "code",
      "source": [
        "if torch.cuda.is_available():\n",
        "  device=torch.device(\"cuda\")\n",
        "  x=torch.ones(5,device=device)\n",
        "  y=y.to(device)\n",
        "  #z= x + y\n",
        "  print(z)\n",
        "  z=z.to(\"cpu\")\n",
        "  print(z)"
      ],
      "metadata": {
        "colab": {
          "base_uri": "https://localhost:8080/"
        },
        "id": "3qiWgR9HEhz6",
        "outputId": "fc0cdb61-6583-439a-dec7-60632954d5de"
      },
      "execution_count": 159,
      "outputs": [
        {
          "output_type": "stream",
          "name": "stdout",
          "text": [
            "tensor([[0.0886, 0.1250],\n",
            "        [0.1359, 0.1652]])\n",
            "tensor([[0.0886, 0.1250],\n",
            "        [0.1359, 0.1652]])\n"
          ]
        }
      ]
    },
    {
      "cell_type": "code",
      "source": [],
      "metadata": {
        "id": "eenltAV1E39y"
      },
      "execution_count": null,
      "outputs": []
    }
  ]
}